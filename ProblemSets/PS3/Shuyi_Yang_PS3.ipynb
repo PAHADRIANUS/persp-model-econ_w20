{
 "cells": [
  {
   "cell_type": "markdown",
   "metadata": {},
   "source": [
    "1.\n",
    "\\begin{gather*}\n",
    "T=1\\\\\n",
    "\\max_{w_{t+1}\\in[0,W_t]} \\sum_{t=1}^{T} \\beta^{t-1} u(W_T-W_{t+1})=\\max_{w_2} \\beta^0 u(W_1-W_2)\n",
    "\\end{gather*}\n",
    "We take $\\beta^0=1$, and the maximization problem is solved by $W_1=1, W_2=0$ and $c_1=1$. \\\n",
    "\n",
    "2.\n",
    "Similarly, with a certain given $T$, $W_{T+1}=1$ for obvious reasons. At $T=2$:\n",
    "\\begin{gather*}\n",
    "\\max_{w_{t+1}\\in[0,W_t]} \\sum_{t=1}^{T} \\beta^{t-1} u(W_T-W_{t+1})=\\max_{w_{t+1}\\in[0,W_t]} u(W_1-W_2)+\\beta^1 u(W_2-W_3)\n",
    "\\end{gather*}\n",
    "where $W_3=0$.\n",
    "\n",
    "3.\n",
    "Now given $T=3,\\ \\beta=0.9$:\n",
    "\\begin{gather*}\n",
    "\\max_{w_{t+1}\\in[0,W_t]} \\sum_{t=1}^{T} \\beta^{t-1} u(W_T-W_{t+1})\n",
    "=\\max_{w_{t+1}\\in[0,W_t]} \\log(W_1-W_2)+0.9 \\log(W_2-W_3)+0.9^2 \\log(W_3-W_4)\\\\\n",
    "=\\max_{c_{t}\\in[0,c_t]} \\log(c_1)+0.9 \\log(c_2)+0.9^2 \\log(c_3)\n",
    "\\end{gather*}\n",
    "By $W_4=0$, $c_1+c_2+c_3=1$,\n",
    "\\begin{gather*}\n",
    "L=\\log(c_1)+0.9 \\log(c_2)+0.9^2 \\log(c_3)-\\lambda(c_1+c_2+c_3-1)\\\\\n",
    "c_1=\\frac{1}{\\lambda}=\\frac{100}{271}\\\\\n",
    "c_2=0.9\\frac{1}{\\lambda}=\\frac{90}{271}\\\\\n",
    "c_3=0.81\\frac{1}{\\lambda}=\\frac{81}{271}\\\\\n",
    "\\{W_t\\}=\\{1,\\frac{171}{271},\\frac{81}{271},0\\}\n",
    "\\end{gather*}\n",
    "\n",
    "4.\n",
    "\\begin{gather*}\n",
    "W_T=\\psi_{T-1}(W_{T-1})=W_{T}\\ s.t.\\ u(W_{T})=V(W_T) \\\\\n",
    "V_{T-1}(W_{T-1})\\equiv \\max_{W_T} u(W_{T-1}-\\psi_{T-1}(W_{T-1}))+\\beta V_{T}(\\psi_{T-1}(W_{T-1}))\n",
    "\\end{gather*}\n",
    "\n",
    "5.\n",
    "Given $u(c)=ln(c)$ and $T<\\infty$ is the last period:\n",
    "\\begin{gather*}\n",
    "V_T(\\bar{W})=u(\\bar{W})=\\log (\\bar{W}) \\\\\n",
    "V_{T-1}(\\bar{W})=\\max_{W_T}u(\\bar{W}-\\psi_{T-1}(\\bar{W}))+\\beta V_{T}(\\psi_{T-1}(\\bar{W}))=\\max_{W_T}\\log (\\bar{W}-\\psi_{T-1}(\\bar{W}))+\\beta V_{T}(\\psi_{T-1}(\\bar{W})) \\\\\n",
    "\\psi_{T}(\\bar{W})=0 \\\\\n",
    "\\psi_{T-1}(\\bar{W})=W_T\\ s.t.\\ u(W_{T})=V_{T}(W_T)=\\bar{W}\n",
    "\\end{gather*}\n",
    "Evidently, $V_T(\\bar{W})\\neq V_{T-1}(\\bar{W})$ and $\\psi_{T}(\\bar{W})\\neq \\psi_{T-1}(\\bar{W})$.\n",
    "\n",
    "6.\n",
    "\\begin{gather*}\n",
    "V_{T-2}(W_{T-2})\\equiv \\max_{W_{T-1}} u(W_{T-2}-W_{T-1})+\\beta V_{T-1}(W_{T-1}) \\\\\n",
    "=\\max_{W_{T-1}} u(W_{T-2}-\\psi_{T-2}(W_{T-2}))+\\beta V_{T-1}(\\psi_{T-2}(W_{T-2})) \\\\\n",
    "=\\max_{W_{T-1}} \\log (W_{T-2}-\\psi_{T-2}(W_{T-2}))+\\beta V_{T-1}(\\psi_{T-2}(W_{T-2})) \\\\\n",
    "\\psi_{T-2}(W_{T-2})=W_{T-1}^* \\ s.t.\\ -\\frac{1}{W_{T-2}-W_{T-1}^* }+\\frac{d V_{T-1}(W_{T-1}^* )}{d W_{T-1}^* } =0\n",
    "\\end{gather*}\n",
    "\n",
    "7.\n",
    "\\begin{gather*}\n",
    "V_{T-s}(W_{T-s})\\equiv \\max_{W_{T-s+1}} u(W_{T-s}-W_{T-s+1})+\\beta V_{T-s+1}(W_{T-s+1}) \\\\\n",
    "=\\max_{W_{T-s+1}} u(W_{T-s}-\\psi_{T-s}(W_{T-s}))+\\beta V_{T-s+1}(\\psi_{T-s}(W_{T-s})) \\\\\n",
    "=\\max_{W_{T-s+1}} \\log (W_{T-s}-\\psi_{T-s}(W_{T-s}))+\\beta V_{T-s+1}(\\psi_{T-s}(W_{T-s})) \\\\\n",
    "\\psi_{T-s}(W_{T-s})=W_{T-s+1}^* \\ s.t.\\ -\\frac{1}{W_{T-s}-W_{T-s+1}^* }+\\frac{d V_{T-s+1}(W_{T-s+1}^* )}{d W_{T-s+1}^* } =0 \\\\\n",
    "\\lim_{s\\to \\infty} \\psi_{T-s}(W_{T-s})=\\lim_{s\\to \\infty} W_{T-s+1}^* =W_{T-s}^* =\\psi_(W_{T-s})\\\\\n",
    "\\lim_{s\\to \\infty} V_{T-s}(W_{T-s})=\\lim_{s\\to \\infty} \\max_{W_{T-s+1}} \\log (W_{T-s}-\\psi_{T-s}(W_{T-s}))+\\beta V_{T-s+1}(\\psi_{T-s}(W_{T-s}))\\\\\n",
    "=\\max_{W_{T-s+1}} \\log (W_{T-s}-\\psi_(W_{T-s}))+\\beta V_{T-s+1}(\\psi_(W_{T-s}))=V(W_{T-s})\n",
    "\\end{gather*}\n",
    "\n",
    "8.\n",
    "\\begin{gather*}\n",
    "V(W_T)=\\max_{W_{T+1}\\in[0,W_T]} u(W_{T}-W_{T+1})+\\beta V(W_{T+1}))\n",
    "\\end{gather*}\n"
   ]
  },
  {
   "cell_type": "markdown",
   "metadata": {},
   "source": [
    "9."
   ]
  },
  {
   "cell_type": "code",
   "execution_count": 2,
   "metadata": {},
   "outputs": [],
   "source": [
    "import numpy as np"
   ]
  },
  {
   "cell_type": "code",
   "execution_count": 265,
   "metadata": {},
   "outputs": [],
   "source": [
    "w_min = 1e-2\n",
    "w_max = 1\n",
    "size = 100\n",
    "w_vec = np.linspace(w_min, w_max, size).reshape((size, 1))"
   ]
  },
  {
   "cell_type": "markdown",
   "metadata": {},
   "source": [
    "10."
   ]
  },
  {
   "cell_type": "code",
   "execution_count": 5,
   "metadata": {},
   "outputs": [],
   "source": [
    "def u(c):\n",
    "    c_leq0 = c <= 0\n",
    "    util = np.zeros_like(c)\n",
    "    util[~c_leq0] = np.log(c[~c_leq0])\n",
    "    util[c_leq0] = -1e7\n",
    "    return util"
   ]
  },
  {
   "cell_type": "code",
   "execution_count": 266,
   "metadata": {},
   "outputs": [],
   "source": [
    "wprime_vec = w_vec.reshape((1, size))\n",
    "w_mat = np.tile(w_vec, (1, size))\n",
    "wprime_mat = np.tile(wprime_vec, (size, 1))\n",
    "c_mat = w_mat - wprime_mat"
   ]
  },
  {
   "cell_type": "code",
   "execution_count": 267,
   "metadata": {},
   "outputs": [],
   "source": [
    "beta = 0.9\n",
    "v_tm1 = (u(c_mat) + beta * u(wprime_mat)).max(axis=1)"
   ]
  },
  {
   "cell_type": "markdown",
   "metadata": {},
   "source": [
    "11."
   ]
  },
  {
   "cell_type": "code",
   "execution_count": 89,
   "metadata": {},
   "outputs": [
    {
     "data": {
      "text/plain": [
       "78398.5221146862"
      ]
     },
     "execution_count": 89,
     "metadata": {},
     "output_type": "execute_result"
    }
   ],
   "source": [
    "v_t = u(w_vec)\n",
    "def norm(a, b):\n",
    "    distance = ((a[1:] - b[1:]) ** 2).sum()\n",
    "    return distance\n",
    "\n",
    "norm(v_tm1, v_t)"
   ]
  },
  {
   "cell_type": "markdown",
   "metadata": {},
   "source": [
    "12."
   ]
  },
  {
   "cell_type": "code",
   "execution_count": 96,
   "metadata": {},
   "outputs": [
    {
     "data": {
      "text/plain": [
       "80999925396859.08"
      ]
     },
     "execution_count": 96,
     "metadata": {},
     "output_type": "execute_result"
    }
   ],
   "source": [
    "v_tm2 = (u(c_mat) + beta * v_tm1).max(axis=1)\n",
    "norm(v_tm2, v_tm1)"
   ]
  },
  {
   "cell_type": "markdown",
   "metadata": {},
   "source": [
    "13."
   ]
  },
  {
   "cell_type": "code",
   "execution_count": 91,
   "metadata": {},
   "outputs": [
    {
     "data": {
      "text/plain": [
       "53144051053046.734"
      ]
     },
     "execution_count": 91,
     "metadata": {},
     "output_type": "execute_result"
    }
   ],
   "source": [
    "v_tm3 = (u(c_mat) + beta * v_tm2).max(axis=1)\n",
    "norm(v_tm3, v_tm2)"
   ]
  },
  {
   "cell_type": "markdown",
   "metadata": {},
   "source": [
    "14."
   ]
  },
  {
   "cell_type": "code",
   "execution_count": 268,
   "metadata": {},
   "outputs": [
    {
     "name": "stdout",
     "output_type": "stream",
     "text": [
      "0 80999925396859.08\n",
      "1 65609939571568.2\n",
      "2 53144051053046.734\n",
      "3 43046681353022.55\n",
      "4 34867811895988.44\n",
      "5 28242927635780.863\n",
      "6 22876771385005.7\n",
      "7 18530184821872.633\n",
      "8 15009449705731.064\n",
      "9 12157654261653.492\n",
      "10 9847699951948.533\n",
      "11 7976636961085.799\n",
      "12 6461075938485.713\n",
      "13 5233471510178.656\n",
      "14 4239111923249.1035\n",
      "15 3433680657835.6045\n",
      "16 2781281332850.183\n",
      "17 2252837879611.5674\n",
      "18 1824798682487.929\n",
      "19 1478086932817.5823\n",
      "20 1197250415584.44\n",
      "21 969772836625.4481\n",
      "22 785515997668.5315\n",
      "23 636267958113.3107\n",
      "24 515377046073.4747\n",
      "25 417455407321.11224\n",
      "26 338138879931.61285\n",
      "27 273892492746.0411\n",
      "28 221852919125.6587\n",
      "29 179700864493.0871\n",
      "30 145557700240.6471\n",
      "31 117901737196.12126\n",
      "32 95500407130.00966\n",
      "33 77355329776.41887\n",
      "34 62657817119.97351\n",
      "35 50752831868.21991\n",
      "36 41109793814.269684\n",
      "37 33298932990.543015\n",
      "38 26972135723.30022\n",
      "39 21847429936.810635\n",
      "40 17696418249.73456\n",
      "41 14334098783.1843\n",
      "42 11610620015.262156\n",
      "43 9404602213.22966\n",
      "44 7617727793.569686\n",
      "45 6170359513.63226\n",
      "46 4997991206.871317\n",
      "47 4048372878.383242\n",
      "48 3279182032.29828\n",
      "49 2656137446.959627\n",
      "50 2151471332.82667\n",
      "51 1742691780.370023\n",
      "52 1411580342.8726256\n",
      "53 1143380078.4923816\n",
      "54 926137864.3363116\n",
      "55 750171670.8635488\n",
      "56 607639054.1435226\n",
      "57 492187634.5940755\n",
      "58 398671984.75202036\n",
      "59 322924308.3742117\n",
      "60 261568690.5008662\n",
      "61 211870640.01808602\n",
      "62 171615219.12041047\n",
      "63 139008328.1874741\n",
      "64 112596746.52485225\n",
      "65 91203365.3725132\n",
      "66 73874726.63144892\n",
      "67 59838529.24457191\n",
      "68 48469209.355196476\n",
      "69 39260060.23701376\n",
      "70 31800649.44502862\n",
      "71 25758526.69468076\n",
      "72 20864407.259274535\n",
      "73 16900170.509658016\n",
      "74 13689138.733293049\n",
      "75 11088202.984125266\n",
      "76 8981445.018623505\n",
      "77 7274971.058238415\n",
      "78 5892727.13921766\n",
      "79 4773109.552275779\n",
      "80 3866219.296308114\n",
      "81 3131638.1788384398\n",
      "82 2536627.4545319886\n",
      "83 2054668.7569290996\n",
      "84 1664282.1994350723\n",
      "85 1348069.0642945508\n",
      "86 1091936.4114144049\n",
      "87 884468.9472824957\n",
      "88 716420.2665959006\n",
      "89 580300.8250185864\n",
      "90 470044.0344860188\n",
      "91 380736.02155510965\n",
      "92 308396.47820073745\n",
      "93 249801.43254305594\n",
      "94 202339.37644213717\n",
      "95 163895.0489476095\n",
      "96 132755.06707731198\n",
      "97 107531.58720258433\n",
      "98 87100.4517705862\n",
      "99 0.9551761384436418\n",
      "100 57146.86183921137\n",
      "101 46288.95808976101\n",
      "102 37494.05605270539\n",
      "103 30370.18540295068\n",
      "104 24599.85017636068\n",
      "105 19925.87864285181\n",
      "106 16139.961700685957\n",
      "107 13073.36897766202\n",
      "108 10589.428871848648\n",
      "109 8577.437386180058\n",
      "110 6947.724282774838\n",
      "111 5627.656668998585\n",
      "112 4558.401901863738\n",
      "113 3692.3055405266105\n",
      "114 2990.7674878265307\n",
      "115 2422.52166513025\n",
      "116 1962.2425487575556\n",
      "117 1589.4164644954596\n",
      "118 1287.4273362429703\n",
      "119 1042.8161423658232\n",
      "120 844.6810753149574\n",
      "121 684.1916710087621\n",
      "122 554.1952535198402\n",
      "123 448.89815535155395\n",
      "124 363.6075058347548\n",
      "125 294.5220797253502\n",
      "126 238.56288457753308\n",
      "127 193.235936508442\n",
      "128 156.52110857241445\n",
      "129 126.78209794352293\n",
      "130 102.69349933436821\n",
      "131 83.18173446062215\n",
      "132 67.37720491367277\n",
      "133 54.57553598058912\n",
      "134 44.20618414419647\n",
      "135 35.80700915679671\n",
      "136 29.0036774167516\n",
      "137 23.4929787075955\n",
      "138 19.02931275315005\n",
      "139 15.41374332993407\n",
      "140 12.485132097306089\n",
      "141 10.112956998833903\n",
      "142 8.191495169111485\n",
      "143 6.63511108700038\n",
      "144 5.374439980454592\n",
      "145 4.35329638414781\n",
      "146 3.526170071174017\n",
      "147 2.856197757633647\n",
      "148 2.3135201836744104\n",
      "149 1.8739513487598976\n",
      "150 1.5179005924914262\n",
      "151 1.229499479918618\n",
      "152 0.9958945787332039\n",
      "153 0.8066746087664051\n",
      "154 0.6534064330979523\n",
      "155 0.5292592108058441\n",
      "156 0.4286999607500098\n",
      "157 0.3472469682023724\n",
      "158 0.2812700442397392\n",
      "159 0.2278287358339261\n",
      "160 0.18454127602205342\n",
      "161 0.14947843357469684\n",
      "162 0.12107753119303398\n",
      "163 0.09807280026308943\n",
      "164 0.07943896820918503\n",
      "165 0.06434556424585465\n",
      "166 0.052119907034597006\n",
      "167 0.04221712469396047\n",
      "168 0.03419587099842769\n",
      "169 0.02769865550416987\n",
      "170 0.0224359109542221\n",
      "171 0.01817308786791537\n",
      "172 0.014720201167893285\n",
      "173 0.011923362941508546\n",
      "174 0.009657923977294085\n",
      "175 0.007822918415056902\n",
      "176 0.006336563909981536\n",
      "177 0.0051326167615305856\n",
      "178 0.004157419570253998\n",
      "179 0.003367509843893042\n",
      "180 0.0027276829659013736\n",
      "181 0.0022094231955353924\n",
      "182 0.0017896327770783203\n",
      "183 0.001449602540010213\n",
      "184 0.0011741780489554138\n",
      "185 0.0009510842057154164\n",
      "186 0.0007703781949654506\n",
      "187 0.0006240063274877466\n",
      "188 0.0005054451047995736\n",
      "189 0.00040941052199538596\n",
      "190 0.0003316224975518549\n",
      "191 0.00026861420711589597\n",
      "192 0.00021757747658616796\n",
      "193 0.0001762377364198704\n",
      "194 0.00014275252581273017\n",
      "195 0.00011562949570417473\n",
      "196 9.365982951179632e-05\n",
      "197 7.58643854492593e-05\n",
      "198 6.145005783042711e-05\n",
      "199 6.738701836233803e-10\n"
     ]
    }
   ],
   "source": [
    "max_num = 500\n",
    "v = v_tm1\n",
    "for i in range(max_num):\n",
    "    vnext = (u(c_mat) + beta * v).max(axis=1)\n",
    "    it = i    \n",
    "    distance = norm(vnext, v)\n",
    "    print(it, distance)\n",
    "    v = vnext\n",
    "    if distance < 1e-9:\n",
    "        break"
   ]
  },
  {
   "cell_type": "markdown",
   "metadata": {},
   "source": [
    "15."
   ]
  },
  {
   "cell_type": "code",
   "execution_count": 24,
   "metadata": {},
   "outputs": [],
   "source": [
    "import matplotlib.pyplot as plt"
   ]
  },
  {
   "cell_type": "code",
   "execution_count": 269,
   "metadata": {},
   "outputs": [
    {
     "data": {
      "text/plain": [
       "[<matplotlib.lines.Line2D at 0x204736cfbe0>]"
      ]
     },
     "execution_count": 269,
     "metadata": {},
     "output_type": "execute_result"
    },
    {
     "data": {
      "image/png": "[encoded data removed]",
      "text/plain": [
       "<Figure size 432x288 with 1 Axes>"
      ]
     },
     "metadata": {
      "needs_background": "light"
     },
     "output_type": "display_data"
    }
   ],
   "source": [
    "plt.plot(v, vnext)"
   ]
  },
  {
   "cell_type": "markdown",
   "metadata": {},
   "source": [
    "16."
   ]
  },
  {
   "cell_type": "code",
   "execution_count": 108,
   "metadata": {},
   "outputs": [],
   "source": [
    "from scipy.stats import norm"
   ]
  },
  {
   "cell_type": "code",
   "execution_count": 130,
   "metadata": {},
   "outputs": [],
   "source": [
    "def nc_norm(mu, sigma, N, k):\n",
    "    d = norm(loc=mu, scale=sigma)\n",
    "    a = mu - k * sigma\n",
    "    b = mu + k * sigma\n",
    "    width = (b - a) / N\n",
    "    nodes = np.linspace(a, b, N)\n",
    "    result = []\n",
    "    for i in range(N):\n",
    "        if i + 1 == 1:\n",
    "            weight = d.cdf((nodes[0] + nodes[1]) / 2)\n",
    "        elif i + 1  == N:\n",
    "            weight = 1 - d.cdf((nodes[N - 1] + nodes[N - 2]) / 2)\n",
    "        elif i + 1 > 1 & i + 1 < N:\n",
    "            weight = d.cdf(nodes[i + 1]) - d.cdf(nodes[i])\n",
    "        else:\n",
    "            raise ValueError\n",
    "        result.append(weight)\n",
    "    return (nodes, result)  "
   ]
  },
  {
   "cell_type": "code",
   "execution_count": 136,
   "metadata": {},
   "outputs": [],
   "source": [
    "ep, gamma = nc_norm(2, 0.5, 7, 3)"
   ]
  },
  {
   "cell_type": "markdown",
   "metadata": {},
   "source": [
    "17."
   ]
  },
  {
   "cell_type": "code",
   "execution_count": 270,
   "metadata": {},
   "outputs": [],
   "source": [
    "w_min = 1e-2\n",
    "w_max = 1\n",
    "size = 100\n",
    "w_vec = np.linspace(w_min, w_max, size).reshape((size, 1))"
   ]
  },
  {
   "cell_type": "code",
   "execution_count": 271,
   "metadata": {},
   "outputs": [],
   "source": [
    "wprime_vec = w_vec.reshape((1, size))\n",
    "w_mat = np.tile(w_vec, (1, size))\n",
    "wprime_mat = np.tile(wprime_vec, (size, 1))\n",
    "c_mat = w_mat - wprime_mat\n",
    "prob = ep * gamma"
   ]
  },
  {
   "cell_type": "code",
   "execution_count": 273,
   "metadata": {},
   "outputs": [],
   "source": [
    "beta = 0.9\n",
    "v_tm1 = (u(np.array(list(c_mat * ep[i] for i in range(len(ep))))) + beta * u(np.array(list(wprime_mat * prob[i] for i in range(len(ep)))))).max(axis=1)"
   ]
  },
  {
   "cell_type": "code",
   "execution_count": 223,
   "metadata": {},
   "outputs": [],
   "source": [
    "v_tm2 = (u(np.array(list(c_mat * ep[i] for i in range(len(ep))))) + beta * np.array(list(np.tile(v_tm1[i], (size, 1)) for i in range(len(v_tm1))))).max(axis=1)"
   ]
  },
  {
   "cell_type": "markdown",
   "metadata": {},
   "source": [
    "18/19."
   ]
  },
  {
   "cell_type": "code",
   "execution_count": 234,
   "metadata": {},
   "outputs": [
    {
     "data": {
      "text/plain": [
       "485999982664898.5"
      ]
     },
     "execution_count": 234,
     "metadata": {},
     "output_type": "execute_result"
    }
   ],
   "source": [
    "def norm(a, b):\n",
    "    distance = ((a[1:] - b[1:]) ** 2).sum()\n",
    "    return distance\n",
    "norm(v_tm2, v_tm1)"
   ]
  },
  {
   "cell_type": "markdown",
   "metadata": {},
   "source": [
    "20."
   ]
  },
  {
   "cell_type": "code",
   "execution_count": 247,
   "metadata": {},
   "outputs": [
    {
     "data": {
      "text/plain": [
       "393659985958567.9"
      ]
     },
     "execution_count": 247,
     "metadata": {},
     "output_type": "execute_result"
    }
   ],
   "source": [
    "v_tm3 = (u(np.array(list(c_mat * ep[i] for i in range(len(ep))))) + beta * np.array(list(np.tile(v_tm2[i], (size, 1)) for i in range(len(v_tm2))))).max(axis=1)\n",
    "norm(v_tm3, v_tm2)"
   ]
  },
  {
   "cell_type": "code",
   "execution_count": null,
   "metadata": {},
   "outputs": [],
   "source": []
  },
  {
   "cell_type": "code",
   "execution_count": 274,
   "metadata": {},
   "outputs": [
    {
     "name": "stdout",
     "output_type": "stream",
     "text": [
      "0 485999982664898.5\n",
      "1 393659985958567.9\n",
      "2 318864588626440.2\n",
      "3 258280316787416.5\n",
      "4 209207056597807.22\n",
      "5 169457715844223.94\n",
      "6 137260749833821.3\n",
      "7 111181207365395.27\n",
      "8 90056777965970.22\n",
      "9 72945990152435.89\n",
      "10 59086252023473.23\n",
      "11 47859864139013.32\n",
      "12 38766489952600.77\n",
      "13 31400856861606.586\n",
      "14 25434694057901.33\n",
      "15 20602102186900.016\n",
      "16 16687702771389.059\n",
      "17 13517039244825.143\n",
      "18 10948801788308.385\n",
      "19 8868529448529.725\n",
      "20 7183508853309.124\n",
      "21 5818642171180.387\n",
      "22 4713100158656.087\n",
      "23 3817611128511.428\n",
      "24 3092265014094.2715\n",
      "25 2504734661416.3813\n",
      "26 2028835075747.2654\n",
      "27 1643356411355.2568\n",
      "28 1331118693197.768\n",
      "29 1078206141490.1907\n",
      "30 873346974607.0546\n",
      "31 707411049431.6958\n",
      "32 573002950039.6882\n",
      "33 464132389532.15753\n",
      "34 375947235521.03186\n",
      "35 304517260772.04987\n",
      "36 246658981225.35864\n",
      "37 199793774792.53885\n",
      "38 161832957581.9555\n",
      "39 131084695641.38217\n",
      "40 106178603469.52036\n",
      "41 86004668810.31113\n",
      "42 69663781736.35233\n",
      "43 56427663206.446266\n",
      "44 45706407197.22199\n",
      "45 37022189829.74982\n",
      "46 29987973762.097775\n",
      "47 24290258747.300903\n",
      "48 19675109585.31083\n",
      "49 15936838764.103308\n",
      "50 12908839398.923264\n",
      "51 10456159913.126598\n",
      "52 8469489529.632097\n",
      "53 6860286519.002806\n",
      "54 5556832080.393905\n",
      "55 4501033985.118329\n",
      "56 3645837527.9440823\n",
      "57 2953128397.6362944\n",
      "58 2392034002.0852194\n",
      "59 1937547541.688439\n",
      "60 1569413508.7677798\n",
      "61 1271224942.1017718\n",
      "62 1029692203.1029816\n",
      "63 834050684.5129232\n",
      "64 675581054.4559104\n",
      "65 547220654.1088606\n",
      "66 443248729.82812583\n",
      "67 359031471.16059744\n",
      "68 290815491.64043677\n",
      "69 235560548.22862303\n",
      "70 190804044.06533593\n",
      "71 154551275.6928162\n",
      "72 125186533.31124918\n",
      "73 101401091.98202607\n",
      "74 82134884.50536394\n",
      "75 66529256.44940434\n",
      "76 53888697.724115744\n",
      "77 43649845.15649357\n",
      "78 35356374.57673809\n",
      "79 28638663.407281563\n",
      "80 23197317.359769147\n",
      "81 18789827.061539583\n",
      "82 15219759.919771116\n",
      "83 12328005.534980431\n",
      "84 9985684.483403353\n",
      "85 8088404.431504812\n",
      "86 6551607.589531356\n",
      "87 5306802.147486765\n",
      "88 4298509.739509683\n",
      "89 3481792.889014195\n",
      "90 2820252.2400688063\n",
      "91 2284404.3144741226\n",
      "92 1850367.4947041788\n",
      "93 1498797.6707118745\n",
      "94 1214026.113265894\n",
      "95 983361.1517622651\n",
      "96 796522.5329241771\n",
      "97 645183.251666629\n",
      "98 522598.4338490899\n",
      "99 423304.7314335947\n",
      "100 342876.832446963\n",
      "101 277730.2342916579\n",
      "102 224961.48977508876\n",
      "103 182218.80671626382\n",
      "104 147597.23343970627\n",
      "105 119553.7590853207\n",
      "106 96838.5448602456\n",
      "107 78439.2213340729\n",
      "108 63535.76928397252\n",
      "109 51463.97312001775\n",
      "110 41685.81822249459\n",
      "111 33765.51276446842\n",
      "112 27350.065340426692\n",
      "113 22153.552923391442\n",
      "114 17944.377867784086\n",
      "115 14534.94607246506\n",
      "116 11773.306319224757\n",
      "117 9536.378118453242\n",
      "118 7724.466277978838\n",
      "119 6256.817682949361\n",
      "120 5068.0223238819035\n",
      "121 4105.098082422295\n",
      "122 3325.129446762059\n",
      "123 2693.3548514984136\n",
      "124 2181.61742954323\n",
      "125 1767.110118134598\n",
      "126 1431.3591959191785\n",
      "127 1159.4009484045405\n",
      "128 939.114768021253\n",
      "129 760.6829619294324\n",
      "130 616.1531994648485\n",
      "131 499.0840918926963\n",
      "132 404.25811399275597\n",
      "133 327.4490725322799\n",
      "134 265.2337488700353\n",
      "135 214.8393364777289\n",
      "136 174.0198625469604\n",
      "137 140.95608857636816\n",
      "138 114.17443190286377\n",
      "139 92.48128980621843\n",
      "140 74.90984472197616\n",
      "141 60.67697419636867\n",
      "142 49.1483490734698\n",
      "143 39.81016273415725\n",
      "144 32.24623189757514\n",
      "145 26.11944787434436\n",
      "146 21.15675277821893\n",
      "147 17.136969639551104\n",
      "148 13.880945453366216\n",
      "149 11.243565853943789\n",
      "150 9.107288304977313\n",
      "151 7.376903560077064\n",
      "152 5.97529182715472\n",
      "153 4.839986433528936\n",
      "154 3.920389001522388\n",
      "155 3.1755150738882434\n",
      "156 2.5721672235085786\n",
      "157 2.0834554369925877\n",
      "158 1.6875989150278676\n",
      "159 1.3669551297075602\n",
      "160 1.1072336307384107\n",
      "161 0.8968592489636755\n",
      "162 0.7264559958085809\n",
      "163 0.5884293547383488\n",
      "164 0.4766277748181505\n",
      "165 0.38606851045425417\n",
      "166 0.3127154750977857\n",
      "167 0.25329954217727035\n",
      "168 0.2051726324702178\n",
      "169 0.1661898233729787\n",
      "170 0.1346137587176925\n",
      "171 0.10903714657010803\n",
      "172 0.08832009739970409\n",
      "173 0.07153926913110398\n",
      "174 0.05794680623891615\n",
      "175 0.046936919379723295\n",
      "176 0.03801890185078528\n",
      "177 0.030795313061247616\n",
      "178 0.02494420588551105\n",
      "179 0.020204803654298678\n",
      "180 0.016365893606002616\n",
      "181 0.013256373400611598\n",
      "182 0.010737661698044744\n",
      "183 0.008697505294610684\n",
      "184 0.0070449811268097455\n",
      "185 0.005706433058358325\n",
      "186 0.004622211273577491\n",
      "187 0.003743991578274317\n",
      "188 0.0030326319723755985\n",
      "189 0.002456431535816304\n",
      "190 0.0019897111721471654\n",
      "191 0.0016116657563746846\n",
      "192 0.0013054495264215634\n",
      "193 0.0010574126921083032\n",
      "194 0.0008565053488275713\n",
      "195 0.0006937685634320172\n",
      "196 0.0005619534016381323\n",
      "197 0.00045518116510179024\n",
      "198 0.0003686975847632152\n",
      "199 0.00029864441288510386\n",
      "200 0.00024190174735879116\n",
      "201 0.00019594061973095478\n",
      "202 0.00015871199394876102\n",
      "203 0.00012855679786854057\n",
      "204 0.00010413070830152413\n",
      "205 8.434600781158908e-05\n",
      "206 6.832056802438788e-05\n",
      "207 5.533933426711332e-05\n",
      "208 4.482525175580794e-05\n",
      "209 3.630836594719049e-05\n",
      "210 2.9409578473895903e-05\n",
      "211 2.3821972342770246e-05\n",
      "212 1.9295765530748097e-05\n",
      "213 1.562948349944316e-05\n",
      "214 1.2659933582807986e-05\n",
      "215 1.0254569578828335e-05\n",
      "216 8.306054085870475e-06\n",
      "217 6.7280742257562336e-06\n",
      "218 5.449637872973994e-06\n",
      "219 4.414160664994816e-06\n",
      "220 3.575483942257388e-06\n",
      "221 2.8962041098736453e-06\n",
      "222 2.345869424050315e-06\n",
      "223 1.9001743591951834e-06\n",
      "224 1.5391955710005562e-06\n",
      "225 1.2467484125104506e-06\n",
      "226 1.0098001914661316e-06\n",
      "227 8.179447572597091e-07\n",
      "228 6.625827899683636e-07\n",
      "229 5.366439292948526e-07\n",
      "230 4.3468158272883055e-07\n",
      "231 3.5210507709536085e-07\n",
      "232 2.851934168827254e-07\n",
      "233 2.3101017632171408e-07\n",
      "234 1.8714350602544983e-07\n",
      "235 1.5156350308150423e-07\n",
      "236 1.227817847394945e-07\n",
      "237 9.945324563899054e-08\n",
      "238 8.055712896758234e-08\n",
      "239 6.52438156834816e-08\n",
      "240 5.2844134401717025e-08\n",
      "241 4.2815832213046584e-08\n",
      "242 3.467946463335587e-08\n",
      "243 2.808057919526734e-08\n",
      "244 2.274637012081293e-08\n",
      "245 1.842654162589349e-08\n",
      "246 1.492460688369983e-08\n",
      "247 1.2094550694300692e-08\n",
      "248 9.791528921011226e-09\n",
      "249 7.931788559299637e-09\n",
      "250 6.424748733032706e-09\n",
      "251 5.20720666586449e-09\n",
      "252 4.216415216978368e-09\n",
      "253 3.41486972033482e-09\n",
      "254 2.7664284196793644e-09\n",
      "255 2.241152596840714e-09\n",
      "256 1.8144006297426808e-09\n",
      "257 1.468825061580868e-09\n",
      "258 1.189748299880503e-09\n",
      "259 9.648295495890473e-10\n"
     ]
    }
   ],
   "source": [
    "max_num = 500\n",
    "v = v_tm1\n",
    "for i in range(max_num):\n",
    "    vnext = (u(np.array(list(c_mat * ep[i] for i in range(len(ep))))) + beta * np.array(list(np.tile(v[i], (size, 1)) for i in range(len(v))))).max(axis=1)\n",
    "    it = i    \n",
    "    distance = norm(vnext, v)\n",
    "    print(it, distance)\n",
    "    v = vnext\n",
    "    if distance < 1e-9:\n",
    "        break"
   ]
  },
  {
   "cell_type": "markdown",
   "metadata": {},
   "source": [
    "22."
   ]
  },
  {
   "cell_type": "code",
   "execution_count": 286,
   "metadata": {},
   "outputs": [],
   "source": [
    "x1 = []\n",
    "x2 = []\n",
    "y = []\n",
    "\n",
    "for i in range(len(vnext)):\n",
    "    for j in range(len(vnext[i])):\n",
    "        x1.append(v[i][j])\n",
    "        x2.append(ep[i])\n",
    "        y.append(vnext[i][j])"
   ]
  },
  {
   "cell_type": "code",
   "execution_count": 291,
   "metadata": {},
   "outputs": [
    {
     "data": {
      "image/png": "[encoded data removed]",
      "text/plain": [
       "<Figure size 432x288 with 1 Axes>"
      ]
     },
     "metadata": {
      "needs_background": "light"
     },
     "output_type": "display_data"
    }
   ],
   "source": [
    "from mpl_toolkits.mplot3d import Axes3D\n",
    "import matplotlib.pyplot as plt\n",
    "import numpy as np\n",
    "\n",
    "x = np.reshape(x1, (7, 100))\n",
    "y = np.reshape(x2, (7, 100))\n",
    "z = np.reshape(y, (7, 100))\n",
    "\n",
    "\n",
    "fig = plt.figure()\n",
    "ax = fig.add_subplot(111, projection='3d')\n",
    "\n",
    "ax.plot_surface(x, y, z)\n",
    "\n",
    "ax.set_xlabel('X Label')\n",
    "ax.set_ylabel('Y Label')\n",
    "ax.set_zlabel('Z Label')\n",
    "\n",
    "plt.show()"
   ]
  }
 ],
 "metadata": {
  "kernelspec": {
   "display_name": "Python 3",
   "language": "python",
   "name": "python3"
  },
  "language_info": {
   "codemirror_mode": {
    "name": "ipython",
    "version": 3
   },
   "file_extension": ".py",
   "mimetype": "text/x-python",
   "name": "python",
   "nbconvert_exporter": "python",
   "pygments_lexer": "ipython3",
   "version": "3.6.8"
  }
 },
 "nbformat": 4,
 "nbformat_minor": 4
}
