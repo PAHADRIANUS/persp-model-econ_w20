{
 "cells": [
  {
   "cell_type": "markdown",
   "metadata": {},
   "source": [
    "1.1"
   ]
  },
  {
   "cell_type": "code",
   "execution_count": 28,
   "metadata": {},
   "outputs": [],
   "source": [
    "import sympy as sy\n",
    "import math\n",
    "import numpy as np\n",
    "from sympy import Function\n",
    "from sympy import *\n",
    "from sympy.utilities.lambdify import lambdify, implemented_function"
   ]
  },
  {
   "cell_type": "code",
   "execution_count": 35,
   "metadata": {},
   "outputs": [],
   "source": [
    "x = sy.symbols('x')"
   ]
  },
  {
   "cell_type": "code",
   "execution_count": 47,
   "metadata": {},
   "outputs": [],
   "source": [
    "expr = (sin(x) + 1) ** (sin(cos(x)))"
   ]
  },
  {
   "cell_type": "code",
   "execution_count": 52,
   "metadata": {},
   "outputs": [],
   "source": [
    "expr_p = sy.diff((sin(x) + 1) ** (sin(cos(x))), x)"
   ]
  },
  {
   "cell_type": "code",
   "execution_count": 53,
   "metadata": {},
   "outputs": [
    {
     "data": {
      "text/latex": [
       "$\\displaystyle \\left(- \\log{\\left(\\sin{\\left(x \\right)} + 1 \\right)} \\sin{\\left(x \\right)} \\cos{\\left(\\cos{\\left(x \\right)} \\right)} + \\frac{\\sin{\\left(\\cos{\\left(x \\right)} \\right)} \\cos{\\left(x \\right)}}{\\sin{\\left(x \\right)} + 1}\\right) \\left(\\sin{\\left(x \\right)} + 1\\right)^{\\sin{\\left(\\cos{\\left(x \\right)} \\right)}}$"
      ],
      "text/plain": [
       "(-log(sin(x) + 1)*sin(x)*cos(cos(x)) + sin(cos(x))*cos(x)/(sin(x) + 1))*(sin(x) + 1)**sin(cos(x))"
      ]
     },
     "execution_count": 53,
     "metadata": {},
     "output_type": "execute_result"
    }
   ],
   "source": [
    "expr_p"
   ]
  },
  {
   "cell_type": "code",
   "execution_count": 57,
   "metadata": {},
   "outputs": [],
   "source": [
    "f = lambdify(x, expr, 'numpy')"
   ]
  },
  {
   "cell_type": "code",
   "execution_count": 60,
   "metadata": {},
   "outputs": [],
   "source": [
    "f_p = lambdify(x, expr_p, 'numpy')"
   ]
  },
  {
   "cell_type": "code",
   "execution_count": 39,
   "metadata": {},
   "outputs": [],
   "source": [
    "from matplotlib import pyplot as plt"
   ]
  },
  {
   "cell_type": "code",
   "execution_count": 73,
   "metadata": {},
   "outputs": [],
   "source": [
    "xvals = np.linspace(-np.pi, np.pi, 100)\n",
    "fvals = f(xvals)\n",
    "fpvals = f_p(xvals)"
   ]
  },
  {
   "cell_type": "code",
   "execution_count": 93,
   "metadata": {
    "scrolled": true
   },
   "outputs": [
    {
     "data": {
      "text/plain": [
       "[<matplotlib.lines.Line2D at 0x1dbe4d8b5f8>]"
      ]
     },
     "execution_count": 93,
     "metadata": {},
     "output_type": "execute_result"
    },
    {
     "data": {
      "image/png": "[encoded data removed]",
      "text/plain": [
       "<Figure size 432x288 with 1 Axes>"
      ]
     },
     "metadata": {
      "needs_background": "light"
     },
     "output_type": "display_data"
    }
   ],
   "source": [
    "fig, ax = plt.subplots()\n",
    "ax.plot(xvals, fvals, label='f(x)')\n",
    "ax.plot(xvals, fpvals, label='f_p(x)')"
   ]
  },
  {
   "cell_type": "markdown",
   "metadata": {},
   "source": [
    "1.2"
   ]
  },
  {
   "cell_type": "code",
   "execution_count": 81,
   "metadata": {},
   "outputs": [],
   "source": [
    "def num_diff(f, a ,method='central', h=0.01):\n",
    "    if method == 'central':\n",
    "        return (f(a + h) - f(a - h)) / (2 * h)\n",
    "    elif method == 'forward':\n",
    "        return (f(a + h) - f(a)) / h\n",
    "    elif method == 'backward':\n",
    "        return (f(a) - f(a - h)) / h\n",
    "    else:\n",
    "        raise ValueError(\"Method must be 'central', 'forward' or 'backward'.\")"
   ]
  },
  {
   "cell_type": "code",
   "execution_count": 88,
   "metadata": {},
   "outputs": [],
   "source": [
    "fordiff_vals = num_diff(f, xvals, 'forward')\n",
    "backdiff_vals = num_diff(f, xvals, 'backward')\n",
    "cendiff_vals = num_diff(f, xvals)"
   ]
  },
  {
   "cell_type": "code",
   "execution_count": 90,
   "metadata": {},
   "outputs": [
    {
     "data": {
      "text/plain": [
       "[<matplotlib.lines.Line2D at 0x1dbe4cc1c88>]"
      ]
     },
     "execution_count": 90,
     "metadata": {},
     "output_type": "execute_result"
    },
    {
     "data": {
      "image/png": "[encoded data removed]",
      "text/plain": [
       "<Figure size 432x288 with 1 Axes>"
      ]
     },
     "metadata": {
      "needs_background": "light"
     },
     "output_type": "display_data"
    }
   ],
   "source": [
    "fig, ax = plt.subplots()\n",
    "ax.plot(xvals, fvals)\n",
    "ax.plot(xvals, fpvals)\n",
    "ax.plot(xvals, fordiff_vals)\n",
    "ax.plot(xvals, backdiff_vals)\n",
    "ax.plot(xvals, cendiff_vals)"
   ]
  },
  {
   "cell_type": "code",
   "execution_count": 79,
   "metadata": {},
   "outputs": [
    {
     "data": {
      "text/plain": [
       "1.3689877347067858"
      ]
     },
     "execution_count": 79,
     "metadata": {},
     "output_type": "execute_result"
    }
   ],
   "source": [
    "f(1)"
   ]
  },
  {
   "cell_type": "code",
   "execution_count": 97,
   "metadata": {},
   "outputs": [],
   "source": [
    "h_array = np.logspace(-8, 0, 9)"
   ]
  },
  {
   "cell_type": "code",
   "execution_count": 95,
   "metadata": {},
   "outputs": [],
   "source": [
    "def abs_error(f, f_p, a, method, h):\n",
    "    error = f_p(a) - num_diff(f, a, method, h)\n",
    "    return error"
   ]
  },
  {
   "cell_type": "code",
   "execution_count": 100,
   "metadata": {},
   "outputs": [],
   "source": [
    "for1_errors = abs_error(f, f_p, 1, 'forward', h_array)\n",
    "back1_errors = abs_error(f, f_p, 1, 'backward', h_array)\n",
    "cen1_errors = abs_error(f, f_p, 1, 'central', h_array)"
   ]
  },
  {
   "cell_type": "code",
   "execution_count": 107,
   "metadata": {},
   "outputs": [
    {
     "data": {
      "text/plain": [
       "(1e-13, 1)"
      ]
     },
     "execution_count": 107,
     "metadata": {},
     "output_type": "execute_result"
    },
    {
     "data": {
      "image/png": "[encoded data removed]",
      "text/plain": [
       "<Figure size 432x288 with 1 Axes>"
      ]
     },
     "metadata": {
      "needs_background": "light"
     },
     "output_type": "display_data"
    }
   ],
   "source": [
    "fig, ax = plt.subplots()\n",
    "ax.plot(h_array, for1_errors)\n",
    "ax.plot(h_array, back1_errors)\n",
    "ax.plot(h_array, cen1_errors)\n",
    "ax.set_yscale('log')\n",
    "ax.set_xscale('log')\n",
    "ax.set_ylim([10**(-13), 1])"
   ]
  },
  {
   "cell_type": "markdown",
   "metadata": {},
   "source": [
    "1.4"
   ]
  },
  {
   "cell_type": "code",
   "execution_count": 112,
   "metadata": {},
   "outputs": [],
   "source": [
    "data = np.load('plane.npy')"
   ]
  },
  {
   "cell_type": "code",
   "execution_count": 121,
   "metadata": {},
   "outputs": [
    {
     "data": {
      "text/plain": [
       "array([[ 7.        ,  0.01713473,  0.02057386],\n",
       "       [ 8.        ,  0.96918133,  1.16186568],\n",
       "       [ 9.        ,  0.95644043,  1.14476146],\n",
       "       [10.        ,  0.94352499,  1.12730816],\n",
       "       [11.        ,  0.93095862,  1.11037847],\n",
       "       [12.        ,  0.91961398,  1.09501957],\n",
       "       [13.        ,  0.90652401,  1.07721721],\n",
       "       [14.        ,  0.89500484,  1.06150925]])"
      ]
     },
     "execution_count": 121,
     "metadata": {},
     "output_type": "execute_result"
    }
   ],
   "source": [
    "data"
   ]
  },
  {
   "cell_type": "code",
   "execution_count": 119,
   "metadata": {},
   "outputs": [],
   "source": [
    "coordinates = []\n",
    "for i in range(len(data)):\n",
    "    data[i][1] = np.deg2rad(data[i][1])\n",
    "    data[i][2] = np.deg2rad(data[i][2])\n",
    "    a, b = data[i][1], data[i][2]\n",
    "    x = a * tan(b) / (tan(b) - tan(a))\n",
    "    y = a * tan(b) * tan(a) / (tan(b) - tan(a))\n",
    "    coordinates.append((i + 7, x, y))"
   ]
  },
  {
   "cell_type": "code",
   "execution_count": 120,
   "metadata": {},
   "outputs": [
    {
     "data": {
      "text/plain": [
       "[(7, 0.102482765512435, 0.00175618637753555),\n",
       " (8, 2.62829664465126, 3.82848822038160),\n",
       " (9, 2.68170287168866, 3.80155615669121),\n",
       " (10, 2.73716035724252, 3.77568644195503),\n",
       " (11, 2.79034431380014, 3.74899348274779),\n",
       " (12, 2.83939821082596, 3.72589372866372),\n",
       " (13, 2.89732577434663, 3.70041394894833),\n",
       " (14, 2.94921295642467, 3.67858726628955)]"
      ]
     },
     "execution_count": 120,
     "metadata": {},
     "output_type": "execute_result"
    }
   ],
   "source": [
    "coordinates"
   ]
  },
  {
   "cell_type": "code",
   "execution_count": 126,
   "metadata": {},
   "outputs": [],
   "source": [
    "speed = []\n",
    "for i in range(len(coordinates)):\n",
    "    if i == 0:\n",
    "        x_p = (coordinates[i + 1][1] - coordinates[i][1]) / 1\n",
    "        y_p = (coordinates[i + 1][2] - coordinates[i][2]) / 1\n",
    "    elif i == len(coordinates) - 1:\n",
    "        x_p = (coordinates[i][1] - coordinates[i - 1][1]) / 1\n",
    "        y_p = (coordinates[i][2] - coordinates[i - 1][2]) / 1\n",
    "    else:\n",
    "        x_p = (coordinates[i + 1][1] - coordinates[i - 1][1]) / 2\n",
    "        y_p = (coordinates[i + 1][2] - coordinates[i - 1][2]) / 2\n",
    "    velocity = sqrt(x_p ** 2 + y_p ** 2)\n",
    "    speed.append((i + 7, velocity))"
   ]
  },
  {
   "cell_type": "code",
   "execution_count": 127,
   "metadata": {},
   "outputs": [
    {
     "data": {
      "text/plain": [
       "[(7, 4.58515144920244),\n",
       " (8, 2.29623910833016),\n",
       " (9, 0.0604965613158305),\n",
       " (10, 0.0603444231809024),\n",
       " (11, 0.0568592406787603),\n",
       " (12, 0.0587473488866402),\n",
       " (13, 0.0597854073609680),\n",
       " (14, 0.0562910626999208)]"
      ]
     },
     "execution_count": 127,
     "metadata": {},
     "output_type": "execute_result"
    }
   ],
   "source": [
    "speed"
   ]
  },
  {
   "cell_type": "markdown",
   "metadata": {},
   "source": [
    "1.5"
   ]
  },
  {
   "cell_type": "code",
   "execution_count": 128,
   "metadata": {},
   "outputs": [],
   "source": [
    "from sympy.matrices import *"
   ]
  },
  {
   "cell_type": "code",
   "execution_count": 129,
   "metadata": {},
   "outputs": [],
   "source": [
    "def num_jacobian(f, x0, n, m, h):\n",
    "    approx = []\n",
    "    for i in range(m):\n",
    "        for j in range(n):\n",
    "            diff = (f[i](x0[n] + h) - f[i](x0[n] - h)) / 2\n",
    "    approx.append(diff)\n",
    "    result = Matrix(m, n, approx)\n",
    "    return result"
   ]
  },
  {
   "cell_type": "markdown",
   "metadata": {},
   "source": [
    "1.7"
   ]
  },
  {
   "cell_type": "code",
   "execution_count": 159,
   "metadata": {},
   "outputs": [],
   "source": [
    "import timeit\n",
    "import random"
   ]
  },
  {
   "cell_type": "code",
   "execution_count": 139,
   "metadata": {},
   "outputs": [],
   "source": [
    "from autograd import numpy as anp\n",
    "from autograd import grad\n",
    "from autograd import elementwise_grad"
   ]
  },
  {
   "cell_type": "code",
   "execution_count": 145,
   "metadata": {},
   "outputs": [],
   "source": [
    "g = lambda x: (anp.sin(x) + 1) ** (anp.sin(anp.cos(x)))"
   ]
  },
  {
   "cell_type": "code",
   "execution_count": 147,
   "metadata": {},
   "outputs": [],
   "source": [
    "dg = grad(g)"
   ]
  },
  {
   "cell_type": "raw",
   "metadata": {},
   "source": [
    "def compare_methods(seed=1, N=200):\n",
    "    random.seed(seed)\n",
    "    sym_t = []\n",
    "    sym_errors = []\n",
    "    num_t = []\n",
    "    num_errors = []\n",
    "    grad_t = []\n",
    "    grad_errors = []\n",
    "    for i in range(N):\n",
    "        x0 = random.random()\n",
    "        sym_start = timeit.default_timer()\n",
    "        sympy_fp = f_p(x0)\n",
    "        sym_stop = timeit.default_timer()\n",
    "        sym_time = sym_stop - sym_start\n",
    "        sym_t.append(sym_time)\n",
    "        sym_errors.append(1e-18)\n",
    "        \n",
    "        num_start = timeit.default_timer()\n",
    "        num_fp = num_diff(f, x0)\n",
    "        num_stop = timeit.default_timer()\n",
    "        num_time = sym_stop - sym_start\n",
    "        num_error = sympy_fp - num_fp\n",
    "        num_t.append(num_time)\n",
    "        num_errors.append(num_error)\n",
    "        \n",
    "        grad_start = timeit.default_timer()\n",
    "        grad_fp = dg(x0)\n",
    "        grad_stop = timeit.default_timer()\n",
    "        grad_time = sym_stop - sym_start\n",
    "        grad_error = sympy_fp - grad_fp\n",
    "        grad_t.append(grad_time)\n",
    "        grad_errors.append(grad_error)\n",
    "    return(sym_t, sym_errors, num_t, num_errors, grad_t, grad_errors)    "
   ]
  },
  {
   "cell_type": "code",
   "execution_count": 160,
   "metadata": {},
   "outputs": [],
   "source": [
    "result = compare_methods()"
   ]
  },
  {
   "cell_type": "code",
   "execution_count": 166,
   "metadata": {},
   "outputs": [
    {
     "data": {
      "image/png": "[encoded data removed]",
      "text/plain": [
       "<Figure size 432x288 with 1 Axes>"
      ]
     },
     "metadata": {
      "needs_background": "light"
     },
     "output_type": "display_data"
    }
   ],
   "source": [
    "fig, ax = plt.subplots()\n",
    "ax.plot(result[0], result[1], 'o')\n",
    "ax.plot(result[2], result[3], 'o')\n",
    "ax.plot(result[4], result[5], 'o')\n",
    "ax.set_yscale('log')\n",
    "ax.set_xscale('log')"
   ]
  }
 ],
 "metadata": {
  "kernelspec": {
   "display_name": "Python 3",
   "language": "python",
   "name": "python3"
  },
  "language_info": {
   "codemirror_mode": {
    "name": "ipython",
    "version": 3
   },
   "file_extension": ".py",
   "mimetype": "text/x-python",
   "name": "python",
   "nbconvert_exporter": "python",
   "pygments_lexer": "ipython3",
   "version": "3.6.8"
  }
 },
 "nbformat": 4,
 "nbformat_minor": 4
}
